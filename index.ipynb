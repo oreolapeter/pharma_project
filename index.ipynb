{
 "cells": [
  {
   "cell_type": "code",
   "execution_count": 2,
   "metadata": {},
   "outputs": [],
   "source": [
    "from pyspark.sql import SparkSession\n",
    "\n",
    "spark = SparkSession.builder.appName('rheeza').getOrCreate()"
   ]
  },
  {
   "cell_type": "markdown",
   "metadata": {},
   "source": [
    "## Understand the Dataset"
   ]
  },
  {
   "cell_type": "code",
   "execution_count": 13,
   "metadata": {},
   "outputs": [
    {
     "name": "stdout",
     "output_type": "stream",
     "text": [
      "+----------------+--------------------+---------+-----------------+-------------------+------------------------------+--------------------+\n",
      "|ageofparticipant|           clinician|drug_used|experimentenddate|experimentstartdate|noofhourspassedatfirstreaction|              result|\n",
      "+----------------+--------------------+---------+-----------------+-------------------+------------------------------+--------------------+\n",
      "|              19|{Ontario, Saul, t...|  Placebo|    1619827200000|      1617235200000|                            52|{BP normalized, r...|\n",
      "|              14|{Ontario, Saul, n...| Naproxen|    1619827200000|      1617235200000|                            78|    {Follow-up, N/A}|\n",
      "|              17|{Ontario, Saul, n...|  Placebo|    1619827200000|      1617235200000|                            14|    {Follow-up, N/A}|\n",
      "|              18|{Ontario, Will, n...| Naproxen|    1619827200000|      1617235200000|                            14|{BP normalized, N/A}|\n",
      "|              17|{Ontario, Patrick...| Naproxen|    1619827200000|      1617235200000|                            22|{No effect, rashe...|\n",
      "+----------------+--------------------+---------+-----------------+-------------------+------------------------------+--------------------+\n",
      "only showing top 5 rows\n",
      "\n"
     ]
    }
   ],
   "source": [
    "trials_df = spark.read.json('dataset.json', multiLine=True) # read the json file\n",
    "\n",
    "trials_df.show(5)"
   ]
  },
  {
   "cell_type": "code",
   "execution_count": 14,
   "metadata": {},
   "outputs": [
    {
     "name": "stdout",
     "output_type": "stream",
     "text": [
      "root\n",
      " |-- ageofparticipant: long (nullable = true)\n",
      " |-- clinician: struct (nullable = true)\n",
      " |    |-- branch: string (nullable = true)\n",
      " |    |-- name: string (nullable = true)\n",
      " |    |-- role: string (nullable = true)\n",
      " |-- drug_used: string (nullable = true)\n",
      " |-- experimentenddate: string (nullable = true)\n",
      " |-- experimentstartdate: string (nullable = true)\n",
      " |-- noofhourspassedatfirstreaction: long (nullable = true)\n",
      " |-- result: struct (nullable = true)\n",
      " |    |-- conclusion: string (nullable = true)\n",
      " |    |-- sideeffectsonparticipant: string (nullable = true)\n",
      "\n"
     ]
    }
   ],
   "source": [
    "trials_df.printSchema() #view the schema"
   ]
  },
  {
   "cell_type": "code",
   "execution_count": 11,
   "metadata": {},
   "outputs": [
    {
     "data": {
      "text/plain": [
       "['ageofparticipant',\n",
       " 'clinician',\n",
       " 'drug_used',\n",
       " 'experimentenddate',\n",
       " 'experimentstartdate',\n",
       " 'noofhourspassedatfirstreaction',\n",
       " 'result']"
      ]
     },
     "execution_count": 11,
     "metadata": {},
     "output_type": "execute_result"
    }
   ],
   "source": [
    "trials_df.columns "
   ]
  },
  {
   "cell_type": "code",
   "execution_count": 15,
   "metadata": {},
   "outputs": [],
   "source": [
    "columns = ['ageofparticipant'\n",
    " ,'clinician.branch'\n",
    " ,'clinician.name'\n",
    " ,'clinician.role'\n",
    " ,'drug_used'\n",
    " ,'experimentenddate'\n",
    " ,'experimentstartdate'\n",
    " ,'noofhourspassedatfirstreaction'\n",
    " ,'result.conclusion'\n",
    " ,'result.sideeffectsonparticipant'] # flatten the columns (there are nested columns in the jason file)\n",
    "\n"
   ]
  },
  {
   "cell_type": "code",
   "execution_count": 17,
   "metadata": {},
   "outputs": [
    {
     "name": "stdout",
     "output_type": "stream",
     "text": [
      "+----------------+-------+-------+---------+---------+-----------------+-------------------+------------------------------+-------------+------------------------+\n",
      "|ageofparticipant| branch|   name|     role|drug_used|experimentenddate|experimentstartdate|noofhourspassedatfirstreaction|   conclusion|sideeffectsonparticipant|\n",
      "+----------------+-------+-------+---------+---------+-----------------+-------------------+------------------------------+-------------+------------------------+\n",
      "|              19|Ontario|   Saul|therapist|  Placebo|    1619827200000|      1617235200000|                            52|BP normalized|          rashes on neck|\n",
      "|              14|Ontario|   Saul|    nurse| Naproxen|    1619827200000|      1617235200000|                            78|    Follow-up|                     N/A|\n",
      "|              17|Ontario|   Saul|    nurse|  Placebo|    1619827200000|      1617235200000|                            14|    Follow-up|                     N/A|\n",
      "|              18|Ontario|   Will|    nurse| Naproxen|    1619827200000|      1617235200000|                            14|BP normalized|                     N/A|\n",
      "|              17|Ontario|Patrick|   doctor| Naproxen|    1619827200000|      1617235200000|                            22|    No effect|          rashes on neck|\n",
      "+----------------+-------+-------+---------+---------+-----------------+-------------------+------------------------------+-------------+------------------------+\n",
      "only showing top 5 rows\n",
      "\n"
     ]
    }
   ],
   "source": [
    "trials_df.select(columns).show(5)"
   ]
  },
  {
   "cell_type": "code",
   "execution_count": 25,
   "metadata": {},
   "outputs": [],
   "source": [
    "from pyspark.sql import functions as fn"
   ]
  },
  {
   "cell_type": "code",
   "execution_count": 28,
   "metadata": {},
   "outputs": [
    {
     "name": "stdout",
     "output_type": "stream",
     "text": [
      "+----------------+----------------+--------------+--------------+---------+-----------------+-------------------+------------------------------+-----------------+-------------------------------+\n",
      "|ageofparticipant|clinician.branch|clinician.name|clinician.role|drug_used|experimentenddate|experimentstartdate|noofhourspassedatfirstreaction|result.conclusion|result.sideeffectsonparticipant|\n",
      "+----------------+----------------+--------------+--------------+---------+-----------------+-------------------+------------------------------+-----------------+-------------------------------+\n",
      "|               0|               0|             0|           109|        0|                0|                  0|                            73|               53|                              0|\n",
      "+----------------+----------------+--------------+--------------+---------+-----------------+-------------------+------------------------------+-----------------+-------------------------------+\n",
      "\n"
     ]
    }
   ],
   "source": [
    "trials_df.select([ fn.count(fn.when(fn.col(column).isNull(), column)).alias(column) for column in columns]).show() #count the null value in each column"
   ]
  },
  {
   "cell_type": "markdown",
   "metadata": {},
   "source": [
    "## Cleaning"
   ]
  },
  {
   "cell_type": "code",
   "execution_count": 59,
   "metadata": {},
   "outputs": [],
   "source": [
    "# flatten df\n",
    "# address null values\n",
    "# rename columns"
   ]
  },
  {
   "cell_type": "code",
   "execution_count": 60,
   "metadata": {},
   "outputs": [],
   "source": [
    "new_trials_df = trials_df.select(columns)"
   ]
  },
  {
   "cell_type": "code",
   "execution_count": 61,
   "metadata": {},
   "outputs": [
    {
     "name": "stdout",
     "output_type": "stream",
     "text": [
      "root\n",
      " |-- ageofparticipant: long (nullable = true)\n",
      " |-- branch: string (nullable = true)\n",
      " |-- name: string (nullable = true)\n",
      " |-- role: string (nullable = true)\n",
      " |-- drug_used: string (nullable = true)\n",
      " |-- experimentenddate: string (nullable = true)\n",
      " |-- experimentstartdate: string (nullable = true)\n",
      " |-- noofhourspassedatfirstreaction: long (nullable = true)\n",
      " |-- conclusion: string (nullable = true)\n",
      " |-- sideeffectsonparticipant: string (nullable = true)\n",
      "\n"
     ]
    }
   ],
   "source": [
    "new_trials_df.printSchema()"
   ]
  },
  {
   "cell_type": "code",
   "execution_count": 62,
   "metadata": {},
   "outputs": [],
   "source": [
    "# rename columns and flatten the df\n",
    "\n",
    "new_trials_df = new_trials_df.withColumnsRenamed({'ageofparticipant': 'age of participant', 'branch': 'clinician_branch','name': 'clinician_name','role':'clinician_role','experimentenddate':'experiment_end_date','experimentstartdate':' experiment_start_date','noofhourspassedatfirstreaction':'hours_passed_first_reaction','sideeffectsonparticipant':'side_effects_on_participant'})\n"
   ]
  },
  {
   "cell_type": "code",
   "execution_count": 65,
   "metadata": {},
   "outputs": [
    {
     "name": "stdout",
     "output_type": "stream",
     "text": [
      "root\n",
      " |-- age of participant: long (nullable = true)\n",
      " |-- clinician_branch: string (nullable = true)\n",
      " |-- clinician_name: string (nullable = true)\n",
      " |-- clinician_role: string (nullable = true)\n",
      " |-- drug_used: string (nullable = true)\n",
      " |-- experiment_end_date: string (nullable = true)\n",
      " |--  experiment_start_date: string (nullable = true)\n",
      " |-- hours_passed_first_reaction: long (nullable = true)\n",
      " |-- conclusion: string (nullable = true)\n",
      " |-- side_effects_on_participant: string (nullable = true)\n",
      "\n"
     ]
    }
   ],
   "source": [
    "new_trials_df.printSchema()"
   ]
  },
  {
   "cell_type": "code",
   "execution_count": 66,
   "metadata": {},
   "outputs": [
    {
     "name": "stdout",
     "output_type": "stream",
     "text": [
      "+------------------+----------------+--------------+--------------+---------+-------------------+----------------------+---------------------------+-------------+---------------------------+\n",
      "|age of participant|clinician_branch|clinician_name|clinician_role|drug_used|experiment_end_date| experiment_start_date|hours_passed_first_reaction|   conclusion|side_effects_on_participant|\n",
      "+------------------+----------------+--------------+--------------+---------+-------------------+----------------------+---------------------------+-------------+---------------------------+\n",
      "|                19|         Ontario|          Saul|     therapist|  Placebo|      1619827200000|         1617235200000|                         52|BP normalized|             rashes on neck|\n",
      "|                14|         Ontario|          Saul|         nurse| Naproxen|      1619827200000|         1617235200000|                         78|    Follow-up|                        N/A|\n",
      "|                17|         Ontario|          Saul|         nurse|  Placebo|      1619827200000|         1617235200000|                         14|    Follow-up|                        N/A|\n",
      "|                18|         Ontario|          Will|         nurse| Naproxen|      1619827200000|         1617235200000|                         14|BP normalized|                        N/A|\n",
      "|                17|         Ontario|       Patrick|        doctor| Naproxen|      1619827200000|         1617235200000|                         22|    No effect|             rashes on neck|\n",
      "|                17|         Ontario|       Patrick|        doctor| Naproxen|      1619827200000|         1617235200000|                          4|    Follow-up|                  headaches|\n",
      "|                20|         Ontario|          Saul|        doctor| Naproxen|      1619827200000|         1617235200000|                         85|    No effect|                  headaches|\n",
      "|                15|         Ontario|          Saul|        doctor|  Placebo|      1619827200000|         1617235200000|                         49|    No effect|             rashes on neck|\n",
      "|                14|         Ontario|          Will|     therapist|  Placebo|      1619827200000|         1617235200000|                         84|    Follow-up|                  headaches|\n",
      "|                20|         Ontario|        Colins|         nurse|  Placebo|      1619827200000|         1617235200000|                         66|    Follow-up|              arms and feet|\n",
      "|                18|         Ontario|       Patrick|        doctor|  Placebo|      1619827200000|         1617235200000|                         40|BP normalized|                light fever|\n",
      "|                17|         Ontario|       Patrick|        doctor|  Placebo|      1619827200000|         1617235200000|                         72|BP normalized|              arms and feet|\n",
      "|                19|         Ontario|        Colins|     therapist|  Placebo|      1619827200000|         1617235200000|                         36|    No effect|                        N/A|\n",
      "|                15|         Ontario|        Colins|     therapist| Naproxen|      1619827200000|         1617235200000|                         12|BP normalized|                  headaches|\n",
      "|                19|         Ontario|          Saul|     therapist|  Placebo|      1619827200000|         1617235200000|                         14|    No effect|                        N/A|\n",
      "|                16|         Ontario|        Colins|         nurse|  Placebo|      1619827200000|         1617235200000|                         63|BP normalized|                        N/A|\n",
      "|                16|         Ontario|          Saul|         nurse| Naproxen|      1619827200000|         1617235200000|                         70|BP normalized|                  headaches|\n",
      "|                18|         Ontario|          Will|     therapist| Naproxen|      1619827200000|         1617235200000|                         10|BP normalized|                        N/A|\n",
      "|                16|         Ontario|       Patrick|         nurse| Naproxen|      1619827200000|         1617235200000|                         11|    Follow-up|             rashes on neck|\n",
      "|                14|         Ontario|       Patrick|        doctor| Naproxen|      1619827200000|         1617235200000|                         32|    No effect|                light fever|\n",
      "+------------------+----------------+--------------+--------------+---------+-------------------+----------------------+---------------------------+-------------+---------------------------+\n",
      "only showing top 20 rows\n",
      "\n"
     ]
    }
   ],
   "source": [
    "new_trials_df.show() # veiw the dataset for the applied changes"
   ]
  },
  {
   "cell_type": "code",
   "execution_count": 67,
   "metadata": {},
   "outputs": [
    {
     "data": {
      "text/plain": [
       "[('age of participant', 'bigint'),\n",
       " ('clinician_branch', 'string'),\n",
       " ('clinician_name', 'string'),\n",
       " ('clinician_role', 'string'),\n",
       " ('drug_used', 'string'),\n",
       " ('experiment_end_date', 'string'),\n",
       " (' experiment_start_date', 'string'),\n",
       " ('hours_passed_first_reaction', 'bigint'),\n",
       " ('conclusion', 'string'),\n",
       " ('side_effects_on_participant', 'string')]"
      ]
     },
     "execution_count": 67,
     "metadata": {},
     "output_type": "execute_result"
    }
   ],
   "source": [
    "new_trials_df.dtypes # check the datatypes of the each columns"
   ]
  },
  {
   "cell_type": "code",
   "execution_count": 68,
   "metadata": {},
   "outputs": [
    {
     "name": "stdout",
     "output_type": "stream",
     "text": [
      "+-------+------------------+----------------+--------------+--------------+---------+--------------------+----------------------+---------------------------+-------------+---------------------------+\n",
      "|summary|age of participant|clinician_branch|clinician_name|clinician_role|drug_used| experiment_end_date| experiment_start_date|hours_passed_first_reaction|   conclusion|side_effects_on_participant|\n",
      "+-------+------------------+----------------+--------------+--------------+---------+--------------------+----------------------+---------------------------+-------------+---------------------------+\n",
      "|  count|              3586|            3586|          3586|          3477|     3586|                3586|                  3586|                       3513|         3533|                       3586|\n",
      "|   mean|17.507250418293363|            null|          null|          null|     null|1.618381578137200...|  1.615813671834913...|          44.89097637346997|         null|                       null|\n",
      "| stddev|2.3066401927555233|            null|          null|          null|     null|2.3250351904618263E9|  2.2862846039555306E9|         24.540325490035848|         null|                       null|\n",
      "|    min|                14|         Alberta|        Colins|        doctor| Naproxen|       1614643200000|         1612137600000|                          3|BP normalized|                        N/A|\n",
      "|    max|                21|          Quebec|       Windsor|     therapist|  Placebo|       1619827200000|         1617235200000|                         87|    No effect|             rashes on neck|\n",
      "+-------+------------------+----------------+--------------+--------------+---------+--------------------+----------------------+---------------------------+-------------+---------------------------+\n",
      "\n"
     ]
    }
   ],
   "source": [
    "new_trials_df.describe().show() #summary of the dataset"
   ]
  },
  {
   "cell_type": "code",
   "execution_count": 69,
   "metadata": {},
   "outputs": [],
   "source": [
    "new_trials_df = new_trials_df.na.fill({'conclusion':'unknown','clinician_role':'unknown'}) # filling the null values "
   ]
  },
  {
   "cell_type": "code",
   "execution_count": 70,
   "metadata": {},
   "outputs": [
    {
     "name": "stdout",
     "output_type": "stream",
     "text": [
      "+------------------+----------------+--------------+--------------+---------+-------------------+----------------------+---------------------------+-------------+---------------------------+\n",
      "|age of participant|clinician_branch|clinician_name|clinician_role|drug_used|experiment_end_date| experiment_start_date|hours_passed_first_reaction|   conclusion|side_effects_on_participant|\n",
      "+------------------+----------------+--------------+--------------+---------+-------------------+----------------------+---------------------------+-------------+---------------------------+\n",
      "|                19|         Ontario|          Saul|     therapist|  Placebo|      1619827200000|         1617235200000|                         52|BP normalized|             rashes on neck|\n",
      "|                14|         Ontario|          Saul|         nurse| Naproxen|      1619827200000|         1617235200000|                         78|    Follow-up|                        N/A|\n",
      "|                17|         Ontario|          Saul|         nurse|  Placebo|      1619827200000|         1617235200000|                         14|    Follow-up|                        N/A|\n",
      "|                18|         Ontario|          Will|         nurse| Naproxen|      1619827200000|         1617235200000|                         14|BP normalized|                        N/A|\n",
      "|                17|         Ontario|       Patrick|        doctor| Naproxen|      1619827200000|         1617235200000|                         22|    No effect|             rashes on neck|\n",
      "|                17|         Ontario|       Patrick|        doctor| Naproxen|      1619827200000|         1617235200000|                          4|    Follow-up|                  headaches|\n",
      "|                20|         Ontario|          Saul|        doctor| Naproxen|      1619827200000|         1617235200000|                         85|    No effect|                  headaches|\n",
      "|                15|         Ontario|          Saul|        doctor|  Placebo|      1619827200000|         1617235200000|                         49|    No effect|             rashes on neck|\n",
      "|                14|         Ontario|          Will|     therapist|  Placebo|      1619827200000|         1617235200000|                         84|    Follow-up|                  headaches|\n",
      "|                20|         Ontario|        Colins|         nurse|  Placebo|      1619827200000|         1617235200000|                         66|    Follow-up|              arms and feet|\n",
      "|                18|         Ontario|       Patrick|        doctor|  Placebo|      1619827200000|         1617235200000|                         40|BP normalized|                light fever|\n",
      "|                17|         Ontario|       Patrick|        doctor|  Placebo|      1619827200000|         1617235200000|                         72|BP normalized|              arms and feet|\n",
      "|                19|         Ontario|        Colins|     therapist|  Placebo|      1619827200000|         1617235200000|                         36|    No effect|                        N/A|\n",
      "|                15|         Ontario|        Colins|     therapist| Naproxen|      1619827200000|         1617235200000|                         12|BP normalized|                  headaches|\n",
      "|                19|         Ontario|          Saul|     therapist|  Placebo|      1619827200000|         1617235200000|                         14|    No effect|                        N/A|\n",
      "|                16|         Ontario|        Colins|         nurse|  Placebo|      1619827200000|         1617235200000|                         63|BP normalized|                        N/A|\n",
      "|                16|         Ontario|          Saul|         nurse| Naproxen|      1619827200000|         1617235200000|                         70|BP normalized|                  headaches|\n",
      "|                18|         Ontario|          Will|     therapist| Naproxen|      1619827200000|         1617235200000|                         10|BP normalized|                        N/A|\n",
      "|                16|         Ontario|       Patrick|         nurse| Naproxen|      1619827200000|         1617235200000|                         11|    Follow-up|             rashes on neck|\n",
      "|                14|         Ontario|       Patrick|        doctor| Naproxen|      1619827200000|         1617235200000|                         32|    No effect|                light fever|\n",
      "+------------------+----------------+--------------+--------------+---------+-------------------+----------------------+---------------------------+-------------+---------------------------+\n",
      "only showing top 20 rows\n",
      "\n"
     ]
    }
   ],
   "source": [
    "\n",
    "new_trials_df.show()"
   ]
  },
  {
   "cell_type": "code",
   "execution_count": 71,
   "metadata": {},
   "outputs": [
    {
     "name": "stdout",
     "output_type": "stream",
     "text": [
      "+-------+------------------+----------------+--------------+--------------+---------+--------------------+----------------------+---------------------------+-------------+---------------------------+\n",
      "|summary|age of participant|clinician_branch|clinician_name|clinician_role|drug_used| experiment_end_date| experiment_start_date|hours_passed_first_reaction|   conclusion|side_effects_on_participant|\n",
      "+-------+------------------+----------------+--------------+--------------+---------+--------------------+----------------------+---------------------------+-------------+---------------------------+\n",
      "|  count|              3586|            3586|          3586|          3586|     3586|                3586|                  3586|                       3513|         3586|                       3586|\n",
      "|   mean|17.507250418293363|            null|          null|          null|     null|1.618381578137200...|  1.615813671834913...|          44.89097637346997|         null|                       null|\n",
      "| stddev|2.3066401927555233|            null|          null|          null|     null|2.3250351904618263E9|  2.2862846039555306E9|         24.540325490035848|         null|                       null|\n",
      "|    min|                14|         Alberta|        Colins|        doctor| Naproxen|       1614643200000|         1612137600000|                          3|BP normalized|                        N/A|\n",
      "|    max|                21|          Quebec|       Windsor|       unknown|  Placebo|       1619827200000|         1617235200000|                         87|      unknown|             rashes on neck|\n",
      "+-------+------------------+----------------+--------------+--------------+---------+--------------------+----------------------+---------------------------+-------------+---------------------------+\n",
      "\n"
     ]
    }
   ],
   "source": [
    "\n",
    "new_trials_df.describe().show()"
   ]
<<<<<<< Updated upstream
=======
  },
  {
   "cell_type": "markdown",
   "metadata": {},
   "source": [
    "# Transformation"
   ]
  },
  {
   "cell_type": "code",
   "execution_count": null,
   "metadata": {},
   "outputs": [],
   "source": []
  },
  {
   "cell_type": "code",
   "execution_count": 42,
   "metadata": {},
   "outputs": [
    {
     "name": "stdout",
     "output_type": "stream",
     "text": [
      "root\n",
      " |-- age of participant: long (nullable = true)\n",
      " |-- clinician_branch: string (nullable = true)\n",
      " |-- clinician_name: string (nullable = true)\n",
      " |-- clinician_role: string (nullable = false)\n",
      " |-- drug_used: string (nullable = true)\n",
      " |-- experiment_end_date: string (nullable = true)\n",
      " |--  experiment_start_date: string (nullable = true)\n",
      " |-- hours_passed_first_reaction: long (nullable = true)\n",
      " |-- conclusion: string (nullable = false)\n",
      " |-- side_effects_on_participant: string (nullable = true)\n",
      "\n"
     ]
    }
   ],
   "source": [
    "new_trials_df.printSchema()"
   ]
  },
  {
   "cell_type": "code",
   "execution_count": null,
   "metadata": {},
   "outputs": [],
   "source": [
    "# convert the datatypes to integers\n",
    "\n",
    "# divide by 1000\n",
    "\n",
    "# convert to normal date"
   ]
  },
  {
   "cell_type": "code",
   "execution_count": 45,
   "metadata": {},
   "outputs": [],
   "source": [
    "new_trials_df = new_trials_df.withColumnsRenamed({' experiment_start_date':'experiment_start_date'})\n",
    "\n"
   ]
  },
  {
   "cell_type": "code",
   "execution_count": 48,
   "metadata": {},
   "outputs": [],
   "source": [
    "from pyspark.sql import types as dtypes"
   ]
  },
  {
   "cell_type": "code",
   "execution_count": 49,
   "metadata": {},
   "outputs": [],
   "source": [
    "new_trials_df = new_trials_df\\\n",
    "    .withColumn('start_ts', fn.from_unixtime(fn.col('experiment_start_date').cast(dtypes.LongType())/1000, 'yyyy-MM-dd HH:mm:ss'))\\\n",
    "    .withColumn('start_ts', fn.col('start_ts').cast(dtypes.TimestampType()))\\\n",
    "            .withColumn('end_ts', fn.from_unixtime(fn.col('experiment_end_date').cast(dtypes.LongType())/1000, 'yyyy-MM-dd HH:mm:ss'))\\\n",
    "            .withColumn('end_ts', fn.col('end_ts').cast(dtypes.TimestampType()))"
   ]
  },
  {
   "cell_type": "code",
   "execution_count": 51,
   "metadata": {},
   "outputs": [
    {
     "name": "stdout",
     "output_type": "stream",
     "text": [
      "root\n",
      " |-- age of participant: long (nullable = true)\n",
      " |-- clinician_branch: string (nullable = true)\n",
      " |-- clinician_name: string (nullable = true)\n",
      " |-- clinician_role: string (nullable = false)\n",
      " |-- drug_used: string (nullable = true)\n",
      " |-- experiment_end_date: string (nullable = true)\n",
      " |-- experiment_start_date: string (nullable = true)\n",
      " |-- hours_passed_first_reaction: long (nullable = true)\n",
      " |-- conclusion: string (nullable = false)\n",
      " |-- side_effects_on_participant: string (nullable = true)\n",
      " |-- start_ts: timestamp (nullable = true)\n",
      " |-- end_ts: timestamp (nullable = true)\n",
      "\n"
     ]
    }
   ],
   "source": [
    "new_trials_df.printSchema()"
   ]
>>>>>>> Stashed changes
  }
 ],
 "metadata": {
  "kernelspec": {
   "display_name": "Python 3",
   "language": "python",
   "name": "python3"
  },
  "language_info": {
   "codemirror_mode": {
    "name": "ipython",
    "version": 3
   },
   "file_extension": ".py",
   "mimetype": "text/x-python",
   "name": "python",
   "nbconvert_exporter": "python",
   "pygments_lexer": "ipython3",
   "version": "3.11.5"
  },
  "orig_nbformat": 4
 },
 "nbformat": 4,
 "nbformat_minor": 2
}
