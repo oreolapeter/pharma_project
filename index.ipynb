{
 "cells": [
  {
   "cell_type": "code",
   "execution_count": 7,
   "metadata": {},
   "outputs": [],
   "source": [
    "from pyspark.sql import SparkSession\n",
    "\n",
    "spark = SparkSession.builder.appName('rheeza').getOrCreate()"
   ]
  },
  {
   "cell_type": "markdown",
   "metadata": {},
   "source": [
    "## Understand the Dataset"
   ]
  },
  {
   "cell_type": "code",
   "execution_count": 8,
   "metadata": {},
   "outputs": [
    {
     "name": "stdout",
     "output_type": "stream",
     "text": [
      "+----------------+--------------------+---------+-----------------+-------------------+------------------------------+--------------------+\n",
      "|ageofparticipant|           clinician|drug_used|experimentenddate|experimentstartdate|noofhourspassedatfirstreaction|              result|\n",
      "+----------------+--------------------+---------+-----------------+-------------------+------------------------------+--------------------+\n",
      "|              19|{Ontario, Saul, t...|  Placebo|    1619827200000|      1617235200000|                            52|{BP normalized, r...|\n",
      "|              14|{Ontario, Saul, n...| Naproxen|    1619827200000|      1617235200000|                            78|    {Follow-up, N/A}|\n",
      "|              17|{Ontario, Saul, n...|  Placebo|    1619827200000|      1617235200000|                            14|    {Follow-up, N/A}|\n",
      "|              18|{Ontario, Will, n...| Naproxen|    1619827200000|      1617235200000|                            14|{BP normalized, N/A}|\n",
      "|              17|{Ontario, Patrick...| Naproxen|    1619827200000|      1617235200000|                            22|{No effect, rashe...|\n",
      "+----------------+--------------------+---------+-----------------+-------------------+------------------------------+--------------------+\n",
      "only showing top 5 rows\n",
      "\n"
     ]
    }
   ],
   "source": [
    "trials_df = spark.read.json('dataset.json', multiLine=True) # read the json file\n",
    "\n",
    "trials_df.show(5)"
   ]
  },
  {
   "cell_type": "code",
   "execution_count": 9,
   "metadata": {},
   "outputs": [
    {
     "name": "stdout",
     "output_type": "stream",
     "text": [
      "root\n",
      " |-- ageofparticipant: long (nullable = true)\n",
      " |-- clinician: struct (nullable = true)\n",
      " |    |-- branch: string (nullable = true)\n",
      " |    |-- name: string (nullable = true)\n",
      " |    |-- role: string (nullable = true)\n",
      " |-- drug_used: string (nullable = true)\n",
      " |-- experimentenddate: string (nullable = true)\n",
      " |-- experimentstartdate: string (nullable = true)\n",
      " |-- noofhourspassedatfirstreaction: long (nullable = true)\n",
      " |-- result: struct (nullable = true)\n",
      " |    |-- conclusion: string (nullable = true)\n",
      " |    |-- sideeffectsonparticipant: string (nullable = true)\n",
      "\n"
     ]
    }
   ],
   "source": [
    "trials_df.printSchema() #view the schema"
   ]
  },
  {
   "cell_type": "code",
   "execution_count": 10,
   "metadata": {},
   "outputs": [
    {
     "data": {
      "text/plain": [
       "['ageofparticipant',\n",
       " 'clinician',\n",
       " 'drug_used',\n",
       " 'experimentenddate',\n",
       " 'experimentstartdate',\n",
       " 'noofhourspassedatfirstreaction',\n",
       " 'result']"
      ]
     },
     "execution_count": 10,
     "metadata": {},
     "output_type": "execute_result"
    }
   ],
   "source": [
    "trials_df.columns "
   ]
  },
  {
   "cell_type": "code",
   "execution_count": 11,
   "metadata": {},
   "outputs": [],
   "source": [
    "columns = ['ageofparticipant'\n",
    " ,'clinician.branch'\n",
    " ,'clinician.name'\n",
    " ,'clinician.role'\n",
    " ,'drug_used'\n",
    " ,'experimentenddate'\n",
    " ,'experimentstartdate'\n",
    " ,'noofhourspassedatfirstreaction'\n",
    " ,'result.conclusion'\n",
    " ,'result.sideeffectsonparticipant'] # flatten the columns (there are nested columns in the jason file)\n",
    "\n"
   ]
  },
  {
   "cell_type": "code",
   "execution_count": 12,
   "metadata": {},
   "outputs": [
    {
     "name": "stdout",
     "output_type": "stream",
     "text": [
      "+----------------+-------+-------+---------+---------+-----------------+-------------------+------------------------------+-------------+------------------------+\n",
      "|ageofparticipant| branch|   name|     role|drug_used|experimentenddate|experimentstartdate|noofhourspassedatfirstreaction|   conclusion|sideeffectsonparticipant|\n",
      "+----------------+-------+-------+---------+---------+-----------------+-------------------+------------------------------+-------------+------------------------+\n",
      "|              19|Ontario|   Saul|therapist|  Placebo|    1619827200000|      1617235200000|                            52|BP normalized|          rashes on neck|\n",
      "|              14|Ontario|   Saul|    nurse| Naproxen|    1619827200000|      1617235200000|                            78|    Follow-up|                     N/A|\n",
      "|              17|Ontario|   Saul|    nurse|  Placebo|    1619827200000|      1617235200000|                            14|    Follow-up|                     N/A|\n",
      "|              18|Ontario|   Will|    nurse| Naproxen|    1619827200000|      1617235200000|                            14|BP normalized|                     N/A|\n",
      "|              17|Ontario|Patrick|   doctor| Naproxen|    1619827200000|      1617235200000|                            22|    No effect|          rashes on neck|\n",
      "+----------------+-------+-------+---------+---------+-----------------+-------------------+------------------------------+-------------+------------------------+\n",
      "only showing top 5 rows\n",
      "\n"
     ]
    }
   ],
   "source": [
    "trials_df.select(columns).show(5)"
   ]
  },
  {
   "cell_type": "code",
   "execution_count": 13,
   "metadata": {},
   "outputs": [],
   "source": [
    "from pyspark.sql import functions as fn"
   ]
  },
  {
   "cell_type": "code",
   "execution_count": 14,
   "metadata": {},
   "outputs": [
    {
     "name": "stdout",
     "output_type": "stream",
     "text": [
      "+----------------+----------------+--------------+--------------+---------+-----------------+-------------------+------------------------------+-----------------+-------------------------------+\n",
      "|ageofparticipant|clinician.branch|clinician.name|clinician.role|drug_used|experimentenddate|experimentstartdate|noofhourspassedatfirstreaction|result.conclusion|result.sideeffectsonparticipant|\n",
      "+----------------+----------------+--------------+--------------+---------+-----------------+-------------------+------------------------------+-----------------+-------------------------------+\n",
      "|               0|               0|             0|           109|        0|                0|                  0|                            73|               53|                              0|\n",
      "+----------------+----------------+--------------+--------------+---------+-----------------+-------------------+------------------------------+-----------------+-------------------------------+\n",
      "\n"
     ]
    }
   ],
   "source": [
    "trials_df.select([ fn.count(fn.when(fn.col(column).isNull(), column)).alias(column) for column in columns]).show() #count the null value in each column"
   ]
  },
  {
   "cell_type": "markdown",
   "metadata": {},
   "source": [
    "## Cleaning"
   ]
  },
  {
   "cell_type": "code",
   "execution_count": 15,
   "metadata": {},
   "outputs": [],
   "source": [
    "# flatten df\n",
    "# address null values\n",
    "# rename columns"
   ]
  },
  {
   "cell_type": "code",
   "execution_count": 16,
   "metadata": {},
   "outputs": [],
   "source": [
    "new_trials_df = trials_df.select(columns)"
   ]
  },
  {
   "cell_type": "code",
   "execution_count": 17,
   "metadata": {},
   "outputs": [
    {
     "name": "stdout",
     "output_type": "stream",
     "text": [
      "root\n",
      " |-- ageofparticipant: long (nullable = true)\n",
      " |-- branch: string (nullable = true)\n",
      " |-- name: string (nullable = true)\n",
      " |-- role: string (nullable = true)\n",
      " |-- drug_used: string (nullable = true)\n",
      " |-- experimentenddate: string (nullable = true)\n",
      " |-- experimentstartdate: string (nullable = true)\n",
      " |-- noofhourspassedatfirstreaction: long (nullable = true)\n",
      " |-- conclusion: string (nullable = true)\n",
      " |-- sideeffectsonparticipant: string (nullable = true)\n",
      "\n"
     ]
    }
   ],
   "source": [
    "new_trials_df.printSchema()"
   ]
  },
  {
   "cell_type": "code",
   "execution_count": 18,
   "metadata": {},
   "outputs": [],
   "source": [
    "# rename columns and flatten the df\n",
    "\n",
    "new_trials_df = new_trials_df.withColumnsRenamed({'ageofparticipant': 'age of participant', 'branch': 'clinician_branch','name': 'clinician_name','role':'clinician_role','experimentenddate':'experiment_end_date','experimentstartdate':' experiment_start_date','noofhourspassedatfirstreaction':'hours_passed_first_reaction','sideeffectsonparticipant':'side_effects_on_participant'})\n"
   ]
  },
  {
   "cell_type": "code",
   "execution_count": 19,
   "metadata": {},
   "outputs": [
    {
     "name": "stdout",
     "output_type": "stream",
     "text": [
      "root\n",
      " |-- age of participant: long (nullable = true)\n",
      " |-- clinician_branch: string (nullable = true)\n",
      " |-- clinician_name: string (nullable = true)\n",
      " |-- clinician_role: string (nullable = true)\n",
      " |-- drug_used: string (nullable = true)\n",
      " |-- experiment_end_date: string (nullable = true)\n",
      " |--  experiment_start_date: string (nullable = true)\n",
      " |-- hours_passed_first_reaction: long (nullable = true)\n",
      " |-- conclusion: string (nullable = true)\n",
      " |-- side_effects_on_participant: string (nullable = true)\n",
      "\n"
     ]
    }
   ],
   "source": [
    "new_trials_df.printSchema()"
   ]
  },
  {
   "cell_type": "code",
   "execution_count": 20,
   "metadata": {},
   "outputs": [
    {
     "name": "stdout",
     "output_type": "stream",
     "text": [
      "+------------------+----------------+--------------+--------------+---------+-------------------+----------------------+---------------------------+-------------+---------------------------+\n",
      "|age of participant|clinician_branch|clinician_name|clinician_role|drug_used|experiment_end_date| experiment_start_date|hours_passed_first_reaction|   conclusion|side_effects_on_participant|\n",
      "+------------------+----------------+--------------+--------------+---------+-------------------+----------------------+---------------------------+-------------+---------------------------+\n",
      "|                19|         Ontario|          Saul|     therapist|  Placebo|      1619827200000|         1617235200000|                         52|BP normalized|             rashes on neck|\n",
      "|                14|         Ontario|          Saul|         nurse| Naproxen|      1619827200000|         1617235200000|                         78|    Follow-up|                        N/A|\n",
      "|                17|         Ontario|          Saul|         nurse|  Placebo|      1619827200000|         1617235200000|                         14|    Follow-up|                        N/A|\n",
      "|                18|         Ontario|          Will|         nurse| Naproxen|      1619827200000|         1617235200000|                         14|BP normalized|                        N/A|\n",
      "|                17|         Ontario|       Patrick|        doctor| Naproxen|      1619827200000|         1617235200000|                         22|    No effect|             rashes on neck|\n",
      "|                17|         Ontario|       Patrick|        doctor| Naproxen|      1619827200000|         1617235200000|                          4|    Follow-up|                  headaches|\n",
      "|                20|         Ontario|          Saul|        doctor| Naproxen|      1619827200000|         1617235200000|                         85|    No effect|                  headaches|\n",
      "|                15|         Ontario|          Saul|        doctor|  Placebo|      1619827200000|         1617235200000|                         49|    No effect|             rashes on neck|\n",
      "|                14|         Ontario|          Will|     therapist|  Placebo|      1619827200000|         1617235200000|                         84|    Follow-up|                  headaches|\n",
      "|                20|         Ontario|        Colins|         nurse|  Placebo|      1619827200000|         1617235200000|                         66|    Follow-up|              arms and feet|\n",
      "|                18|         Ontario|       Patrick|        doctor|  Placebo|      1619827200000|         1617235200000|                         40|BP normalized|                light fever|\n",
      "|                17|         Ontario|       Patrick|        doctor|  Placebo|      1619827200000|         1617235200000|                         72|BP normalized|              arms and feet|\n",
      "|                19|         Ontario|        Colins|     therapist|  Placebo|      1619827200000|         1617235200000|                         36|    No effect|                        N/A|\n",
      "|                15|         Ontario|        Colins|     therapist| Naproxen|      1619827200000|         1617235200000|                         12|BP normalized|                  headaches|\n",
      "|                19|         Ontario|          Saul|     therapist|  Placebo|      1619827200000|         1617235200000|                         14|    No effect|                        N/A|\n",
      "|                16|         Ontario|        Colins|         nurse|  Placebo|      1619827200000|         1617235200000|                         63|BP normalized|                        N/A|\n",
      "|                16|         Ontario|          Saul|         nurse| Naproxen|      1619827200000|         1617235200000|                         70|BP normalized|                  headaches|\n",
      "|                18|         Ontario|          Will|     therapist| Naproxen|      1619827200000|         1617235200000|                         10|BP normalized|                        N/A|\n",
      "|                16|         Ontario|       Patrick|         nurse| Naproxen|      1619827200000|         1617235200000|                         11|    Follow-up|             rashes on neck|\n",
      "|                14|         Ontario|       Patrick|        doctor| Naproxen|      1619827200000|         1617235200000|                         32|    No effect|                light fever|\n",
      "+------------------+----------------+--------------+--------------+---------+-------------------+----------------------+---------------------------+-------------+---------------------------+\n",
      "only showing top 20 rows\n",
      "\n"
     ]
    }
   ],
   "source": [
    "new_trials_df.show() # veiw the dataset for the applied changes"
   ]
  },
  {
   "cell_type": "code",
   "execution_count": 21,
   "metadata": {},
   "outputs": [
    {
     "data": {
      "text/plain": [
       "[('age of participant', 'bigint'),\n",
       " ('clinician_branch', 'string'),\n",
       " ('clinician_name', 'string'),\n",
       " ('clinician_role', 'string'),\n",
       " ('drug_used', 'string'),\n",
       " ('experiment_end_date', 'string'),\n",
       " (' experiment_start_date', 'string'),\n",
       " ('hours_passed_first_reaction', 'bigint'),\n",
       " ('conclusion', 'string'),\n",
       " ('side_effects_on_participant', 'string')]"
      ]
     },
     "execution_count": 21,
     "metadata": {},
     "output_type": "execute_result"
    }
   ],
   "source": [
    "new_trials_df.dtypes # check the datatypes of the each columns"
   ]
  },
  {
   "cell_type": "code",
   "execution_count": 22,
   "metadata": {},
   "outputs": [
    {
     "name": "stdout",
     "output_type": "stream",
     "text": [
      "+-------+------------------+----------------+--------------+--------------+---------+--------------------+----------------------+---------------------------+-------------+---------------------------+\n",
      "|summary|age of participant|clinician_branch|clinician_name|clinician_role|drug_used| experiment_end_date| experiment_start_date|hours_passed_first_reaction|   conclusion|side_effects_on_participant|\n",
      "+-------+------------------+----------------+--------------+--------------+---------+--------------------+----------------------+---------------------------+-------------+---------------------------+\n",
      "|  count|              3586|            3586|          3586|          3477|     3586|                3586|                  3586|                       3513|         3533|                       3586|\n",
      "|   mean|17.507250418293363|            null|          null|          null|     null|1.618381578137200...|  1.615813671834913...|          44.89097637346997|         null|                       null|\n",
      "| stddev|2.3066401927555233|            null|          null|          null|     null|2.3250351904618263E9|  2.2862846039555306E9|         24.540325490035848|         null|                       null|\n",
      "|    min|                14|         Alberta|        Colins|        doctor| Naproxen|       1614643200000|         1612137600000|                          3|BP normalized|                        N/A|\n",
      "|    max|                21|          Quebec|       Windsor|     therapist|  Placebo|       1619827200000|         1617235200000|                         87|    No effect|             rashes on neck|\n",
      "+-------+------------------+----------------+--------------+--------------+---------+--------------------+----------------------+---------------------------+-------------+---------------------------+\n",
      "\n"
     ]
    }
   ],
   "source": [
    "new_trials_df.describe().show() #summary of the dataset"
   ]
  },
  {
   "cell_type": "code",
   "execution_count": 23,
   "metadata": {},
   "outputs": [],
   "source": [
    "new_trials_df = new_trials_df.na.fill({'conclusion':'unknown','clinician_role':'unknown'}) # filling the null values "
   ]
  },
  {
   "cell_type": "code",
   "execution_count": 24,
   "metadata": {},
   "outputs": [
    {
     "name": "stdout",
     "output_type": "stream",
     "text": [
      "+------------------+----------------+--------------+--------------+---------+-------------------+----------------------+---------------------------+-------------+---------------------------+\n",
      "|age of participant|clinician_branch|clinician_name|clinician_role|drug_used|experiment_end_date| experiment_start_date|hours_passed_first_reaction|   conclusion|side_effects_on_participant|\n",
      "+------------------+----------------+--------------+--------------+---------+-------------------+----------------------+---------------------------+-------------+---------------------------+\n",
      "|                19|         Ontario|          Saul|     therapist|  Placebo|      1619827200000|         1617235200000|                         52|BP normalized|             rashes on neck|\n",
      "|                14|         Ontario|          Saul|         nurse| Naproxen|      1619827200000|         1617235200000|                         78|    Follow-up|                        N/A|\n",
      "|                17|         Ontario|          Saul|         nurse|  Placebo|      1619827200000|         1617235200000|                         14|    Follow-up|                        N/A|\n",
      "|                18|         Ontario|          Will|         nurse| Naproxen|      1619827200000|         1617235200000|                         14|BP normalized|                        N/A|\n",
      "|                17|         Ontario|       Patrick|        doctor| Naproxen|      1619827200000|         1617235200000|                         22|    No effect|             rashes on neck|\n",
      "|                17|         Ontario|       Patrick|        doctor| Naproxen|      1619827200000|         1617235200000|                          4|    Follow-up|                  headaches|\n",
      "|                20|         Ontario|          Saul|        doctor| Naproxen|      1619827200000|         1617235200000|                         85|    No effect|                  headaches|\n",
      "|                15|         Ontario|          Saul|        doctor|  Placebo|      1619827200000|         1617235200000|                         49|    No effect|             rashes on neck|\n",
      "|                14|         Ontario|          Will|     therapist|  Placebo|      1619827200000|         1617235200000|                         84|    Follow-up|                  headaches|\n",
      "|                20|         Ontario|        Colins|         nurse|  Placebo|      1619827200000|         1617235200000|                         66|    Follow-up|              arms and feet|\n",
      "|                18|         Ontario|       Patrick|        doctor|  Placebo|      1619827200000|         1617235200000|                         40|BP normalized|                light fever|\n",
      "|                17|         Ontario|       Patrick|        doctor|  Placebo|      1619827200000|         1617235200000|                         72|BP normalized|              arms and feet|\n",
      "|                19|         Ontario|        Colins|     therapist|  Placebo|      1619827200000|         1617235200000|                         36|    No effect|                        N/A|\n",
      "|                15|         Ontario|        Colins|     therapist| Naproxen|      1619827200000|         1617235200000|                         12|BP normalized|                  headaches|\n",
      "|                19|         Ontario|          Saul|     therapist|  Placebo|      1619827200000|         1617235200000|                         14|    No effect|                        N/A|\n",
      "|                16|         Ontario|        Colins|         nurse|  Placebo|      1619827200000|         1617235200000|                         63|BP normalized|                        N/A|\n",
      "|                16|         Ontario|          Saul|         nurse| Naproxen|      1619827200000|         1617235200000|                         70|BP normalized|                  headaches|\n",
      "|                18|         Ontario|          Will|     therapist| Naproxen|      1619827200000|         1617235200000|                         10|BP normalized|                        N/A|\n",
      "|                16|         Ontario|       Patrick|         nurse| Naproxen|      1619827200000|         1617235200000|                         11|    Follow-up|             rashes on neck|\n",
      "|                14|         Ontario|       Patrick|        doctor| Naproxen|      1619827200000|         1617235200000|                         32|    No effect|                light fever|\n",
      "+------------------+----------------+--------------+--------------+---------+-------------------+----------------------+---------------------------+-------------+---------------------------+\n",
      "only showing top 20 rows\n",
      "\n"
     ]
    }
   ],
   "source": [
    "\n",
    "new_trials_df.show()"
   ]
  },
  {
   "cell_type": "code",
   "execution_count": 25,
   "metadata": {},
   "outputs": [
    {
     "name": "stdout",
     "output_type": "stream",
     "text": [
      "+-------+------------------+----------------+--------------+--------------+---------+--------------------+----------------------+---------------------------+-------------+---------------------------+\n",
      "|summary|age of participant|clinician_branch|clinician_name|clinician_role|drug_used| experiment_end_date| experiment_start_date|hours_passed_first_reaction|   conclusion|side_effects_on_participant|\n",
      "+-------+------------------+----------------+--------------+--------------+---------+--------------------+----------------------+---------------------------+-------------+---------------------------+\n",
      "|  count|              3586|            3586|          3586|          3586|     3586|                3586|                  3586|                       3513|         3586|                       3586|\n",
      "|   mean|17.507250418293363|            null|          null|          null|     null|1.618381578137200...|  1.615813671834913...|          44.89097637346997|         null|                       null|\n",
      "| stddev|2.3066401927555233|            null|          null|          null|     null|2.3250351904618263E9|  2.2862846039555306E9|         24.540325490035848|         null|                       null|\n",
      "|    min|                14|         Alberta|        Colins|        doctor| Naproxen|       1614643200000|         1612137600000|                          3|BP normalized|                        N/A|\n",
      "|    max|                21|          Quebec|       Windsor|       unknown|  Placebo|       1619827200000|         1617235200000|                         87|      unknown|             rashes on neck|\n",
      "+-------+------------------+----------------+--------------+--------------+---------+--------------------+----------------------+---------------------------+-------------+---------------------------+\n",
      "\n"
     ]
    }
   ],
   "source": [
    "\n",
    "new_trials_df.describe().show()"
   ]
  },
  {
   "cell_type": "markdown",
   "metadata": {},
   "source": [
    "# Transformation"
   ]
  },
  {
   "cell_type": "code",
   "execution_count": null,
   "metadata": {},
   "outputs": [],
   "source": []
  },
  {
   "cell_type": "code",
   "execution_count": 31,
   "metadata": {},
   "outputs": [
    {
     "name": "stdout",
     "output_type": "stream",
     "text": [
      "root\n",
      " |-- age of participant: long (nullable = true)\n",
      " |-- clinician_branch: string (nullable = true)\n",
      " |-- clinician_name: string (nullable = true)\n",
      " |-- clinician_role: string (nullable = false)\n",
      " |-- drug_used: string (nullable = true)\n",
      " |-- experiment_end_date: string (nullable = true)\n",
      " |--  experiment_start_date: string (nullable = true)\n",
      " |-- hours_passed_first_reaction: long (nullable = true)\n",
      " |-- conclusion: string (nullable = false)\n",
      " |-- side_effects_on_participant: string (nullable = true)\n",
      "\n"
     ]
    }
   ],
   "source": [
    "new_trials_df.printSchema()"
   ]
  },
  {
   "cell_type": "code",
   "execution_count": null,
   "metadata": {},
   "outputs": [],
   "source": [
    "# convert the datatypes to integers\n",
    "\n",
    "# divide by 1000\n",
    "\n",
    "# convert to normal date"
   ]
  },
  {
   "cell_type": "code",
   "execution_count": 28,
   "metadata": {},
   "outputs": [],
   "source": [
    "from pyspark.sql import types as dtypes"
   ]
  },
  {
   "cell_type": "code",
   "execution_count": 33,
   "metadata": {},
   "outputs": [
    {
     "ename": "AnalysisException",
     "evalue": "[UNRESOLVED_COLUMN.WITH_SUGGESTION] A column or function parameter with name `experiment_start_date` cannot be resolved. Did you mean one of the following? [` experiment_start_date`, `experiment_end_date`, `clinician_name`, `clinician_role`, `age of participant`].;\n'Project [age of participant#309L, clinician_branch#307, clinician_name#303, clinician_role#1391, drug_used#53, experiment_end_date#310,  experiment_start_date#308, hours_passed_first_reaction#306L, conclusion#1392, side_effects_on_participant#305, from_unixtime((cast('experiment_start_date as bigint) / 1000), yyyy-mm-dd, Some(America/Los_Angeles)) AS start_ts#2460]\n+- Project [age of participant#309L, clinician_branch#307, clinician_name#303, coalesce(clinician_role#304, cast(unknown as string)) AS clinician_role#1391, drug_used#53, experiment_end_date#310,  experiment_start_date#308, hours_passed_first_reaction#306L, coalesce(conclusion#291, cast(unknown as string)) AS conclusion#1392, side_effects_on_participant#305]\n   +- Project [ageofparticipant#51L AS age of participant#309L, branch#288 AS clinician_branch#307, name#289 AS clinician_name#303, role#290 AS clinician_role#304, drug_used#53, experimentenddate#54 AS experiment_end_date#310, experimentstartdate#55 AS  experiment_start_date#308, noofhourspassedatfirstreaction#56L AS hours_passed_first_reaction#306L, conclusion#291, sideeffectsonparticipant#292 AS side_effects_on_participant#305]\n      +- Project [ageofparticipant#51L, clinician#52.branch AS branch#288, clinician#52.name AS name#289, clinician#52.role AS role#290, drug_used#53, experimentenddate#54, experimentstartdate#55, noofhourspassedatfirstreaction#56L, result#57.conclusion AS conclusion#291, result#57.sideeffectsonparticipant AS sideeffectsonparticipant#292]\n         +- Relation [ageofparticipant#51L,clinician#52,drug_used#53,experimentenddate#54,experimentstartdate#55,noofhourspassedatfirstreaction#56L,result#57] json\n",
     "output_type": "error",
     "traceback": [
      "\u001b[1;31m---------------------------------------------------------------------------\u001b[0m",
      "\u001b[1;31mAnalysisException\u001b[0m                         Traceback (most recent call last)",
      "Cell \u001b[1;32mIn[33], line 1\u001b[0m\n\u001b[1;32m----> 1\u001b[0m new_trials_df\u001b[39m.\u001b[39;49mwithColumn(\u001b[39m'\u001b[39;49m\u001b[39mstart_ts\u001b[39;49m\u001b[39m'\u001b[39;49m, fn\u001b[39m.\u001b[39;49mfrom_unixtime(fn\u001b[39m.\u001b[39;49mcol(\u001b[39m'\u001b[39;49m\u001b[39mexperiment_start_date\u001b[39;49m\u001b[39m'\u001b[39;49m)\u001b[39m.\u001b[39;49mcast(dtypes\u001b[39m.\u001b[39;49mLongType())\u001b[39m/\u001b[39;49m\u001b[39m1000\u001b[39;49m,\u001b[39m'\u001b[39;49m\u001b[39myyyy-mm-dd\u001b[39;49m\u001b[39m'\u001b[39;49m) )\u001b[39m.\u001b[39mshow()\n",
      "File \u001b[1;32mc:\\Users\\Adepoju Olalekan\\AppData\\Local\\Programs\\Python\\Python311\\Lib\\site-packages\\pyspark\\sql\\dataframe.py:4789\u001b[0m, in \u001b[0;36mDataFrame.withColumn\u001b[1;34m(self, colName, col)\u001b[0m\n\u001b[0;32m   4784\u001b[0m \u001b[39mif\u001b[39;00m \u001b[39mnot\u001b[39;00m \u001b[39misinstance\u001b[39m(col, Column):\n\u001b[0;32m   4785\u001b[0m     \u001b[39mraise\u001b[39;00m PySparkTypeError(\n\u001b[0;32m   4786\u001b[0m         error_class\u001b[39m=\u001b[39m\u001b[39m\"\u001b[39m\u001b[39mNOT_COLUMN\u001b[39m\u001b[39m\"\u001b[39m,\n\u001b[0;32m   4787\u001b[0m         message_parameters\u001b[39m=\u001b[39m{\u001b[39m\"\u001b[39m\u001b[39marg_name\u001b[39m\u001b[39m\"\u001b[39m: \u001b[39m\"\u001b[39m\u001b[39mcol\u001b[39m\u001b[39m\"\u001b[39m, \u001b[39m\"\u001b[39m\u001b[39marg_type\u001b[39m\u001b[39m\"\u001b[39m: \u001b[39mtype\u001b[39m(col)\u001b[39m.\u001b[39m\u001b[39m__name__\u001b[39m},\n\u001b[0;32m   4788\u001b[0m     )\n\u001b[1;32m-> 4789\u001b[0m \u001b[39mreturn\u001b[39;00m DataFrame(\u001b[39mself\u001b[39;49m\u001b[39m.\u001b[39;49m_jdf\u001b[39m.\u001b[39;49mwithColumn(colName, col\u001b[39m.\u001b[39;49m_jc), \u001b[39mself\u001b[39m\u001b[39m.\u001b[39msparkSession)\n",
      "File \u001b[1;32mc:\\Users\\Adepoju Olalekan\\AppData\\Local\\Programs\\Python\\Python311\\Lib\\site-packages\\py4j\\java_gateway.py:1322\u001b[0m, in \u001b[0;36mJavaMember.__call__\u001b[1;34m(self, *args)\u001b[0m\n\u001b[0;32m   1316\u001b[0m command \u001b[39m=\u001b[39m proto\u001b[39m.\u001b[39mCALL_COMMAND_NAME \u001b[39m+\u001b[39m\\\n\u001b[0;32m   1317\u001b[0m     \u001b[39mself\u001b[39m\u001b[39m.\u001b[39mcommand_header \u001b[39m+\u001b[39m\\\n\u001b[0;32m   1318\u001b[0m     args_command \u001b[39m+\u001b[39m\\\n\u001b[0;32m   1319\u001b[0m     proto\u001b[39m.\u001b[39mEND_COMMAND_PART\n\u001b[0;32m   1321\u001b[0m answer \u001b[39m=\u001b[39m \u001b[39mself\u001b[39m\u001b[39m.\u001b[39mgateway_client\u001b[39m.\u001b[39msend_command(command)\n\u001b[1;32m-> 1322\u001b[0m return_value \u001b[39m=\u001b[39m get_return_value(\n\u001b[0;32m   1323\u001b[0m     answer, \u001b[39mself\u001b[39;49m\u001b[39m.\u001b[39;49mgateway_client, \u001b[39mself\u001b[39;49m\u001b[39m.\u001b[39;49mtarget_id, \u001b[39mself\u001b[39;49m\u001b[39m.\u001b[39;49mname)\n\u001b[0;32m   1325\u001b[0m \u001b[39mfor\u001b[39;00m temp_arg \u001b[39min\u001b[39;00m temp_args:\n\u001b[0;32m   1326\u001b[0m     \u001b[39mif\u001b[39;00m \u001b[39mhasattr\u001b[39m(temp_arg, \u001b[39m\"\u001b[39m\u001b[39m_detach\u001b[39m\u001b[39m\"\u001b[39m):\n",
      "File \u001b[1;32mc:\\Users\\Adepoju Olalekan\\AppData\\Local\\Programs\\Python\\Python311\\Lib\\site-packages\\pyspark\\errors\\exceptions\\captured.py:175\u001b[0m, in \u001b[0;36mcapture_sql_exception.<locals>.deco\u001b[1;34m(*a, **kw)\u001b[0m\n\u001b[0;32m    171\u001b[0m converted \u001b[39m=\u001b[39m convert_exception(e\u001b[39m.\u001b[39mjava_exception)\n\u001b[0;32m    172\u001b[0m \u001b[39mif\u001b[39;00m \u001b[39mnot\u001b[39;00m \u001b[39misinstance\u001b[39m(converted, UnknownException):\n\u001b[0;32m    173\u001b[0m     \u001b[39m# Hide where the exception came from that shows a non-Pythonic\u001b[39;00m\n\u001b[0;32m    174\u001b[0m     \u001b[39m# JVM exception message.\u001b[39;00m\n\u001b[1;32m--> 175\u001b[0m     \u001b[39mraise\u001b[39;00m converted \u001b[39mfrom\u001b[39;00m \u001b[39mNone\u001b[39;00m\n\u001b[0;32m    176\u001b[0m \u001b[39melse\u001b[39;00m:\n\u001b[0;32m    177\u001b[0m     \u001b[39mraise\u001b[39;00m\n",
      "\u001b[1;31mAnalysisException\u001b[0m: [UNRESOLVED_COLUMN.WITH_SUGGESTION] A column or function parameter with name `experiment_start_date` cannot be resolved. Did you mean one of the following? [` experiment_start_date`, `experiment_end_date`, `clinician_name`, `clinician_role`, `age of participant`].;\n'Project [age of participant#309L, clinician_branch#307, clinician_name#303, clinician_role#1391, drug_used#53, experiment_end_date#310,  experiment_start_date#308, hours_passed_first_reaction#306L, conclusion#1392, side_effects_on_participant#305, from_unixtime((cast('experiment_start_date as bigint) / 1000), yyyy-mm-dd, Some(America/Los_Angeles)) AS start_ts#2460]\n+- Project [age of participant#309L, clinician_branch#307, clinician_name#303, coalesce(clinician_role#304, cast(unknown as string)) AS clinician_role#1391, drug_used#53, experiment_end_date#310,  experiment_start_date#308, hours_passed_first_reaction#306L, coalesce(conclusion#291, cast(unknown as string)) AS conclusion#1392, side_effects_on_participant#305]\n   +- Project [ageofparticipant#51L AS age of participant#309L, branch#288 AS clinician_branch#307, name#289 AS clinician_name#303, role#290 AS clinician_role#304, drug_used#53, experimentenddate#54 AS experiment_end_date#310, experimentstartdate#55 AS  experiment_start_date#308, noofhourspassedatfirstreaction#56L AS hours_passed_first_reaction#306L, conclusion#291, sideeffectsonparticipant#292 AS side_effects_on_participant#305]\n      +- Project [ageofparticipant#51L, clinician#52.branch AS branch#288, clinician#52.name AS name#289, clinician#52.role AS role#290, drug_used#53, experimentenddate#54, experimentstartdate#55, noofhourspassedatfirstreaction#56L, result#57.conclusion AS conclusion#291, result#57.sideeffectsonparticipant AS sideeffectsonparticipant#292]\n         +- Relation [ageofparticipant#51L,clinician#52,drug_used#53,experimentenddate#54,experimentstartdate#55,noofhourspassedatfirstreaction#56L,result#57] json\n"
     ]
    }
   ],
   "source": [
    "new_trials_df.withColumn('start_ts', fn.from_unixtime(fn.col('experiment_start_date').cast(dtypes.LongType())/1000,'yyyy-MM-dd HH:mm:ss') ).show()"
   ]
  },
  {
   "cell_type": "code",
   "execution_count": null,
   "metadata": {},
   "outputs": [],
   "source": []
  }
 ],
 "metadata": {
  "kernelspec": {
   "display_name": "Python 3",
   "language": "python",
   "name": "python3"
  },
  "language_info": {
   "codemirror_mode": {
    "name": "ipython",
    "version": 3
   },
   "file_extension": ".py",
   "mimetype": "text/x-python",
   "name": "python",
   "nbconvert_exporter": "python",
   "pygments_lexer": "ipython3",
   "version": "3.11.5"
  },
  "orig_nbformat": 4
 },
 "nbformat": 4,
 "nbformat_minor": 2
}
