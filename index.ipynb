{
 "cells": [
  {
   "cell_type": "code",
   "execution_count": 2,
   "metadata": {},
   "outputs": [],
   "source": [
    "from pyspark.sql import SparkSession\n",
    "\n",
    "spark = SparkSession.builder.appName('rheeza').getOrCreate()"
   ]
  },
  {
   "cell_type": "markdown",
   "metadata": {},
   "source": [
    "## Understand the Dataset"
   ]
  },
  {
   "cell_type": "code",
   "execution_count": 13,
   "metadata": {},
   "outputs": [
    {
     "name": "stdout",
     "output_type": "stream",
     "text": [
      "+----------------+--------------------+---------+-----------------+-------------------+------------------------------+--------------------+\n",
      "|ageofparticipant|           clinician|drug_used|experimentenddate|experimentstartdate|noofhourspassedatfirstreaction|              result|\n",
      "+----------------+--------------------+---------+-----------------+-------------------+------------------------------+--------------------+\n",
      "|              19|{Ontario, Saul, t...|  Placebo|    1619827200000|      1617235200000|                            52|{BP normalized, r...|\n",
      "|              14|{Ontario, Saul, n...| Naproxen|    1619827200000|      1617235200000|                            78|    {Follow-up, N/A}|\n",
      "|              17|{Ontario, Saul, n...|  Placebo|    1619827200000|      1617235200000|                            14|    {Follow-up, N/A}|\n",
      "|              18|{Ontario, Will, n...| Naproxen|    1619827200000|      1617235200000|                            14|{BP normalized, N/A}|\n",
      "|              17|{Ontario, Patrick...| Naproxen|    1619827200000|      1617235200000|                            22|{No effect, rashe...|\n",
      "+----------------+--------------------+---------+-----------------+-------------------+------------------------------+--------------------+\n",
      "only showing top 5 rows\n",
      "\n"
     ]
    }
   ],
   "source": [
    "trials_df = spark.read.json('dataset.json', multiLine=True) # read the json file\n",
    "\n",
    "trials_df.show(5)"
   ]
  },
  {
   "cell_type": "code",
   "execution_count": 14,
   "metadata": {},
   "outputs": [
    {
     "name": "stdout",
     "output_type": "stream",
     "text": [
      "root\n",
      " |-- ageofparticipant: long (nullable = true)\n",
      " |-- clinician: struct (nullable = true)\n",
      " |    |-- branch: string (nullable = true)\n",
      " |    |-- name: string (nullable = true)\n",
      " |    |-- role: string (nullable = true)\n",
      " |-- drug_used: string (nullable = true)\n",
      " |-- experimentenddate: string (nullable = true)\n",
      " |-- experimentstartdate: string (nullable = true)\n",
      " |-- noofhourspassedatfirstreaction: long (nullable = true)\n",
      " |-- result: struct (nullable = true)\n",
      " |    |-- conclusion: string (nullable = true)\n",
      " |    |-- sideeffectsonparticipant: string (nullable = true)\n",
      "\n"
     ]
    }
   ],
   "source": [
    "trials_df.printSchema() #view the schema"
   ]
  },
  {
   "cell_type": "code",
   "execution_count": 11,
   "metadata": {},
   "outputs": [
    {
     "data": {
      "text/plain": [
       "['ageofparticipant',\n",
       " 'clinician',\n",
       " 'drug_used',\n",
       " 'experimentenddate',\n",
       " 'experimentstartdate',\n",
       " 'noofhourspassedatfirstreaction',\n",
       " 'result']"
      ]
     },
     "execution_count": 11,
     "metadata": {},
     "output_type": "execute_result"
    }
   ],
   "source": [
    "trials_df.columns "
   ]
  },
  {
   "cell_type": "code",
   "execution_count": 15,
   "metadata": {},
   "outputs": [],
   "source": [
    "columns = ['ageofparticipant'\n",
    " ,'clinician.branch'\n",
    " ,'clinician.name'\n",
    " ,'clinician.role'\n",
    " ,'drug_used'\n",
    " ,'experimentenddate'\n",
    " ,'experimentstartdate'\n",
    " ,'noofhourspassedatfirstreaction'\n",
    " ,'result.conclusion'\n",
    " ,'result.sideeffectsonparticipant'] # flatten the columns (there are nested columns in the jason file)\n",
    "\n"
   ]
  },
  {
   "cell_type": "code",
   "execution_count": 17,
   "metadata": {},
   "outputs": [
    {
     "name": "stdout",
     "output_type": "stream",
     "text": [
      "+----------------+-------+-------+---------+---------+-----------------+-------------------+------------------------------+-------------+------------------------+\n",
      "|ageofparticipant| branch|   name|     role|drug_used|experimentenddate|experimentstartdate|noofhourspassedatfirstreaction|   conclusion|sideeffectsonparticipant|\n",
      "+----------------+-------+-------+---------+---------+-----------------+-------------------+------------------------------+-------------+------------------------+\n",
      "|              19|Ontario|   Saul|therapist|  Placebo|    1619827200000|      1617235200000|                            52|BP normalized|          rashes on neck|\n",
      "|              14|Ontario|   Saul|    nurse| Naproxen|    1619827200000|      1617235200000|                            78|    Follow-up|                     N/A|\n",
      "|              17|Ontario|   Saul|    nurse|  Placebo|    1619827200000|      1617235200000|                            14|    Follow-up|                     N/A|\n",
      "|              18|Ontario|   Will|    nurse| Naproxen|    1619827200000|      1617235200000|                            14|BP normalized|                     N/A|\n",
      "|              17|Ontario|Patrick|   doctor| Naproxen|    1619827200000|      1617235200000|                            22|    No effect|          rashes on neck|\n",
      "+----------------+-------+-------+---------+---------+-----------------+-------------------+------------------------------+-------------+------------------------+\n",
      "only showing top 5 rows\n",
      "\n"
     ]
    }
   ],
   "source": [
    "trials_df.select(columns).show(5)"
   ]
  },
  {
   "cell_type": "code",
   "execution_count": 25,
   "metadata": {},
   "outputs": [],
   "source": [
    "from pyspark.sql import functions as fn"
   ]
  },
  {
   "cell_type": "code",
   "execution_count": 28,
   "metadata": {},
   "outputs": [
    {
     "name": "stdout",
     "output_type": "stream",
     "text": [
      "+----------------+----------------+--------------+--------------+---------+-----------------+-------------------+------------------------------+-----------------+-------------------------------+\n",
      "|ageofparticipant|clinician.branch|clinician.name|clinician.role|drug_used|experimentenddate|experimentstartdate|noofhourspassedatfirstreaction|result.conclusion|result.sideeffectsonparticipant|\n",
      "+----------------+----------------+--------------+--------------+---------+-----------------+-------------------+------------------------------+-----------------+-------------------------------+\n",
      "|               0|               0|             0|           109|        0|                0|                  0|                            73|               53|                              0|\n",
      "+----------------+----------------+--------------+--------------+---------+-----------------+-------------------+------------------------------+-----------------+-------------------------------+\n",
      "\n"
     ]
    }
   ],
   "source": [
    "trials_df.select([ fn.count(fn.when(fn.col(column).isNull(), column)).alias(column) for column in columns]).show() #count the null value in each column"
   ]
  }
 ],
 "metadata": {
  "kernelspec": {
   "display_name": "Python 3",
   "language": "python",
   "name": "python3"
  },
  "language_info": {
   "codemirror_mode": {
    "name": "ipython",
    "version": 3
   },
   "file_extension": ".py",
   "mimetype": "text/x-python",
   "name": "python",
   "nbconvert_exporter": "python",
   "pygments_lexer": "ipython3",
   "version": "3.11.5"
  },
  "orig_nbformat": 4
 },
 "nbformat": 4,
 "nbformat_minor": 2
}
